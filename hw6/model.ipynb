{
 "cells": [
  {
   "cell_type": "code",
   "execution_count": 110,
   "metadata": {},
   "outputs": [],
   "source": [
    "# IMPORTS\n",
    "import numpy as np\n",
    "import scipy as sp\n",
    "import pandas as pd\n",
    "\n",
    "from google.cloud import storage\n",
    "from sklearn.model_selection import train_test_split\n",
    "from sklearn.tree import DecisionTreeClassifier\n",
    "from sklearn.metrics import mean_squared_error, mean_absolute_error, r2_score\n",
    "\n",
    "# CONSTANTS\n",
    "BUCKET_NAME = 'bu-ds561-dcmag-hw6'\n",
    "BLOB_NAME = 'request.csv'"
   ]
  },
  {
   "cell_type": "markdown",
   "metadata": {},
   "source": [
    "# Retreiving the Data From the Storage Bucket\n",
    "\n",
    "First thing's first, we need to get the `request.csv` from the storage bucket. We will save it locally to our `data/` directory and then load it into a pandas dataframe."
   ]
  },
  {
   "cell_type": "code",
   "execution_count": 111,
   "metadata": {},
   "outputs": [],
   "source": [
    "# Get the Blob from the Bucket\n",
    "storage_client = storage.Client()\n",
    "bucket = storage_client.bucket(BUCKET_NAME)\n",
    "blob = bucket.blob(BLOB_NAME)\n",
    "\n",
    "# Open the Blob and read the data into a Pandas DataFrame\n",
    "with blob.open('r') as f:\n",
    "    df = pd.read_csv(f)\n",
    "    \n",
    "# Store the DataFrame as a CSV file (for future use)\n",
    "df.to_csv('data/request.csv', index=False)"
   ]
  },
  {
   "cell_type": "markdown",
   "metadata": {},
   "source": [
    "# Evaluating the Data\n",
    "\n",
    "Now that we have the data, we need to clean it and extract the features we want to use for our model. \n",
    "\n",
    "We're going to filter out unnecessary columns like `request_id` and `timestamp` as those are just generated at the time of request and offer no indication to the income.\n",
    "\n",
    "We're going to clean the data by removing the `files` predicate from the filename, reducing the gender to boolean, and grouping the age/income from an enumerated list to a numerical value."
   ]
  },
  {
   "cell_type": "code",
   "execution_count": 112,
   "metadata": {},
   "outputs": [
    {
     "name": "stdout",
     "output_type": "stream",
     "text": [
      "   country     client_ip  gender  age  income  is_banned requested_file\n",
      "0       21    1139885159       0    6       7          0           3475\n",
      "1       62    9522297201       1    5       7          0           4678\n",
      "3      155    2442221370       1    5       3          0           2116\n",
      "5      163  210162186132       0    6       2          0           5762\n",
      "7       45    1932491643       0    4       0          0           3813\n"
     ]
    }
   ],
   "source": [
    "# Load the DataFrame from the CSV file\n",
    "df = pd.read_csv('data/request.csv', on_bad_lines='skip')\n",
    "\n",
    "# Add Headers to the DataFrame\n",
    "df.columns = ['request_id', 'country', 'client_ip', 'gender', 'age', 'income', 'is_banned', 'time_of_request', 'requested_file']\n",
    "\n",
    "# Drop Drop Duplicates & Unnecessary Columns\n",
    "df = df.drop(['request_id', 'time_of_request'], axis=1)\n",
    "df.drop_duplicates(inplace=True)\n",
    "\n",
    "# Map the Gender Column to Boolean\n",
    "# (Male = 1, Female = 0)\n",
    "df['gender'] = df['gender'].map({'Male': 1, 'Female': 0})\n",
    "\n",
    "# Map the Age/Income Columns to Integer Values\n",
    "ages_list = ['0-16', '17-25', '26-35', '36-45', '46-55', '56-65', '66-75', '76+']\n",
    "incomes_list = ['0-10k', '10k-20k', '20k-40k', '40k-60k', '60k-100k', '100k-150k', '150k-250k', '250k+']\n",
    "\n",
    "df['age'] = df['age'].map({age: i for i, age in enumerate(ages_list)})\n",
    "df['income'] = df['income'].map({income: i for i, income in enumerate(incomes_list)})\n",
    "\n",
    "# Convert the Country column to a One-Hot Encoding\n",
    "df['country'] = pd.Categorical(df['country']).codes\n",
    "\n",
    "# Convert the IP addresses to numerical values\n",
    "df['client_ip'] = df['client_ip'].apply(lambda x: int(x.replace('.', '')))\n",
    "\n",
    "# Clean the Requested File Column\n",
    "# files/1.html -> 1\n",
    "df['requested_file'] = df['requested_file'].apply(lambda x: x.split('/')[1].split('.')[0])\n",
    "\n",
    "# Save the DataFrame as a CSV file (for future use)\n",
    "df.to_csv('data/cleaned_request.csv', index=False)\n",
    "\n",
    "print(df.head())"
   ]
  },
  {
   "cell_type": "markdown",
   "metadata": {},
   "source": [
    "# Train/Test & Selecting the Model\n",
    "\n",
    "Now that we have our cleaned dataframe, we need to split it into a training and testing set. We will use the training set to train our model and the testing set to evaluate the accuracy of our model. We will be experimenting with a few different models and features to see which one performs the best."
   ]
  },
  {
   "cell_type": "markdown",
   "metadata": {},
   "source": [
    "## Country Model\n",
    "\n",
    "This model, we are predicting the country based on the client IP. Looking at the HTTP client code this should be relatively simple. We know intuitively that the octets will have a consistent pattern if they pertain to the same country. So as long as we convert the IP addresses to numerical features that can be shaped that will be fine.\n",
    "\n",
    "I chose to use a DecisionTreeClassifier because they provide a feature importance score. In this context that means we can see which octets are the most important in determining the country. Additionally, being a decision tree based model, they are robust to outliers and can handle categorical data."
   ]
  },
  {
   "cell_type": "code",
   "execution_count": 113,
   "metadata": {},
   "outputs": [
    {
     "name": "stdout",
     "output_type": "stream",
     "text": [
      "Accuracy for Country Prediction: 0.9911\n"
     ]
    }
   ],
   "source": [
    "# Load the cleaned DataFrame from the CSV file\n",
    "df = pd.read_csv('data/cleaned_request.csv', on_bad_lines='skip')\n",
    "\n",
    "# Split the data for the IP model (predicting country)\n",
    "X_ip = df['client_ip']\n",
    "Y_ip = df['country']\n",
    "\n",
    "# Reshape the data\n",
    "X_ip = X_ip.values.reshape(-1, 1)\n",
    "\n",
    "# Split the data into training and testing sets\n",
    "X_ip_train, X_ip_test, Y_ip_train, Y_ip_test = train_test_split(X_ip, Y_ip, test_size=0.2)\n",
    "\n",
    "# Build and train the IP model\n",
    "country_model = DecisionTreeClassifier()\n",
    "\n",
    "# Fit the IP model\n",
    "country_model.fit(X_ip_train, Y_ip_train)\n",
    "\n",
    "# Evaluate the IP model\n",
    "Y_ip_pred = country_model.predict(X_ip_test)\n",
    "ip_accuracy = country_model.score(X_ip_test, Y_ip_test)\n",
    "print(\"Accuracy for Country Prediction:\", ip_accuracy)"
   ]
  },
  {
   "cell_type": "markdown",
   "metadata": {},
   "source": [
    "We can see that the model achieves an accuracy of over 99% on the test set."
   ]
  },
  {
   "cell_type": "markdown",
   "metadata": {},
   "source": [
    "## Income Model\n",
    "\n",
    "This model, we are predicting the income based on whichever features we choose. Some of the features such as country and gender, make sense for income prediction. However, something worth noticing is that the income is generated pseudorandomly (if we check the HTTP script), so we expect the model to perform assuming a uniform distribution of incomes.\n",
    "\n",
    "I chose to use a DecisionTreeClassifier because they provide a feature importance score. In this context that means we can see which octets are the most important in determining the country. Additionally, being a decision tree based model, they are robust to outliers and can handle categorical data."
   ]
  },
  {
   "cell_type": "code",
   "execution_count": 114,
   "metadata": {},
   "outputs": [
    {
     "name": "stdout",
     "output_type": "stream",
     "text": [
      "Accuracy for Income Prediction: 0.1284\n"
     ]
    }
   ],
   "source": [
    "# Load the cleaned DataFrame\n",
    "df = pd.read_csv('data/cleaned_request.csv', on_bad_lines='skip')\n",
    "\n",
    "# Select relevant features\n",
    "X_income = df[['country', 'client_ip', 'gender', 'age', 'is_banned', 'requested_file']]\n",
    "Y_income = df['income']\n",
    "\n",
    "# Split the data into training and testing sets\n",
    "X_income_train, X_income_test, Y_income_train, Y_income_test = train_test_split(X_income, Y_income, test_size=0.2)\n",
    "\n",
    "# Build and train the income model (use RandomForestRegressor for regression)\n",
    "income_model = DecisionTreeClassifier()\n",
    "\n",
    "# Train the model\n",
    "income_model.fit(X_income_train, Y_income_train)\n",
    "\n",
    "# Evaluate the income model\n",
    "Y_income_pred = income_model.predict(X_income_test)\n",
    "income_accuracy = income_model.score(X_income_test, Y_income_test)\n",
    "print(\"Accuracy for Income Prediction:\", income_accuracy)"
   ]
  },
  {
   "cell_type": "markdown",
   "metadata": {},
   "source": [
    "Since there is a uniform distribution of 8 incomes, we expect the model to achieve an accuracy of at least 12.5% (1/8). Since the income is generated pseudorandomly, there is no correlation between the income and  So this model is performing as expected"
   ]
  }
 ],
 "metadata": {
  "kernelspec": {
   "display_name": "venv",
   "language": "python",
   "name": "python3"
  },
  "language_info": {
   "codemirror_mode": {
    "name": "ipython",
    "version": 3
   },
   "file_extension": ".py",
   "mimetype": "text/x-python",
   "name": "python",
   "nbconvert_exporter": "python",
   "pygments_lexer": "ipython3",
   "version": "3.9.6"
  }
 },
 "nbformat": 4,
 "nbformat_minor": 2
}
